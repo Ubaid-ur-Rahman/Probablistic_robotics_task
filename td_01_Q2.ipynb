{
 "cells": [
  {
   "attachments": {},
   "cell_type": "markdown",
   "metadata": {},
   "source": [
    "Suppose we live at a place where the weather is either sunny, rainy and cloudy. Suppose that we cannot observe the weather directly, but instead rely on a sensor. The problem is that our sensor is noisy. Its measurements are governed by the following measurement model:\n",
    "\n",
    "If actual weather is sunny, the sensor tell us\n",
    "Sunny: 0.6\n",
    "Cloudy: 0.4\n",
    "Rainy: 0.0\n",
    "\n",
    "If actual weather is cloudy, the sensor tell us\n",
    "Sunny: 0.3\n",
    "Cloudy: 0.7\n",
    "Rainy: 0.0\n",
    "\n",
    "If actual weather is rainy, the sensor tell us\n",
    "Sunny: 0.0\n",
    "Cloudy: 0.0\n",
    "Rainy: 1.0\n",
    "\n",
    "Suppose Day 1 is sunny (this is known for a fact), and in the subsequent four days our \n",
    "sensor observes cloudy, cloudy, rainy, sunny. What is the probability that Day 5 is \n",
    "indeed sunny as predicted by our sensor ?"
   ]
  },
  {
   "cell_type": "code",
   "execution_count": 1,
   "metadata": {},
   "outputs": [
    {
     "name": "stdout",
     "output_type": "stream",
     "text": [
      "Probability that Day 5 is sunny: 0.400\n"
     ]
    }
   ],
   "source": [
    "import numpy as np\n",
    "\n",
    "# Sensor measurement model\n",
    "measurement_model = np.array([[0.6, 0.4, 0.0],\n",
    "                              [0.3, 0.7, 0.0],\n",
    "                              [0.0, 0.0, 1.0]])\n",
    "\n",
    "# Initial probabilities\n",
    "initial_probabilities = np.array([1.0, 0.0, 0.0])\n",
    "\n",
    "# Transition matrix\n",
    "transition_matrix = np.array([[0.8, 0.2, 0.0],\n",
    "                              [0.4, 0.4, 0.2],\n",
    "                              [0.2, 0.6, 0.2]])\n",
    "\n",
    "# Observation sequence\n",
    "observation_sequence = ['Cloudy', 'Cloudy', 'Rainy', 'Sunny']\n",
    "\n",
    "# Convert observation sequence to corresponding indices\n",
    "observations = [['Sunny', 'Cloudy', 'Rainy'].index(obs) for obs in observation_sequence]\n",
    "\n",
    "# Perform the forward algorithm\n",
    "forward_probabilities = np.zeros((len(observation_sequence) + 1, 3))\n",
    "forward_probabilities[0] = initial_probabilities\n",
    "\n",
    "for t in range(1, len(observation_sequence) + 1):\n",
    "    for j in range(3):\n",
    "        for i in range(3):\n",
    "            forward_probabilities[t, j] += (forward_probabilities[t - 1, i] *\n",
    "                                            transition_matrix[i, j] *\n",
    "                                            measurement_model[j, observations[t - 1]])\n",
    "\n",
    "# Calculate the probability of Day 5 being sunny\n",
    "probability_sunny = forward_probabilities[-1, 0] / np.sum(forward_probabilities[-1])\n",
    "\n",
    "# Print the probability\n",
    "print(\"Probability that Day 5 is sunny: {:.3f}\".format(probability_sunny))\n"
   ]
  },
  {
   "attachments": {},
   "cell_type": "markdown",
   "metadata": {},
   "source": [
    "Once again, suppose Day 1 is known to be sunny. At Days 2 through 4, the sensor measures sunny, sunny, rainy. For each of the Days 2 through 4, what is the most likely weather on that day ? Answer the question in two ways: one in which only the data available to the day in question is used, and one in hindsight, where data from future days is also available."
   ]
  },
  {
   "attachments": {},
   "cell_type": "markdown",
   "metadata": {},
   "source": [
    "Let's calculate the most likely weather for each of the Days 2 through 4 using:\n",
    "\n",
    "Using only the available data:"
   ]
  },
  {
   "cell_type": "code",
   "execution_count": 2,
   "metadata": {},
   "outputs": [
    {
     "name": "stdout",
     "output_type": "stream",
     "text": [
      "Day 2: Sunny\n",
      "Day 3: Sunny\n",
      "Day 4: Rainy\n"
     ]
    }
   ],
   "source": [
    "# Observations\n",
    "observations = ['Sunny', 'Sunny', 'Rainy']\n",
    "\n",
    "# Convert observations to corresponding indices\n",
    "obs_indices = [['Sunny', 'Cloudy', 'Rainy'].index(obs) for obs in observations]\n",
    "\n",
    "# Perform the Viterbi algorithm\n",
    "num_states = transition_matrix.shape[0]\n",
    "num_obs = len(obs_indices)\n",
    "\n",
    "# Initialize matrices\n",
    "viterbi = np.zeros((num_obs, num_states))\n",
    "backpointers = np.zeros((num_obs, num_states), dtype=int)\n",
    "\n",
    "# Base case: Day 1\n",
    "viterbi[0] = initial_probabilities * measurement_model[:, obs_indices[0]]\n",
    "\n",
    "# Recursive case: Days 2 through 4\n",
    "for t in range(1, num_obs):\n",
    "    for j in range(num_states):\n",
    "        prev_viterbi = viterbi[t - 1] * transition_matrix[:, j]\n",
    "        viterbi[t, j] = np.max(prev_viterbi) * measurement_model[j, obs_indices[t]]\n",
    "        backpointers[t, j] = np.argmax(prev_viterbi)\n",
    "\n",
    "# Find the most likely weather for each day\n",
    "most_likely_weather = [np.argmax(viterbi[t]) for t in range(num_obs)]\n",
    "\n",
    "# Convert indices back to weather conditions\n",
    "weather_conditions = ['Sunny', 'Cloudy', 'Rainy']\n",
    "\n",
    "# Print the most likely weather for each day\n",
    "for t in range(num_obs):\n",
    "    day = t + 2\n",
    "    print(\"Day {}: {}\".format(day, weather_conditions[most_likely_weather[t]]))"
   ]
  },
  {
   "attachments": {},
   "cell_type": "markdown",
   "metadata": {},
   "source": [
    "Using data in hindsight:"
   ]
  },
  {
   "cell_type": "code",
   "execution_count": 3,
   "metadata": {},
   "outputs": [
    {
     "name": "stdout",
     "output_type": "stream",
     "text": [
      "Day 2: Sunny\n",
      "Day 3: Cloudy\n",
      "Day 4: Rainy\n"
     ]
    }
   ],
   "source": [
    "# Observations\n",
    "observations = ['Sunny', 'Sunny', 'Rainy']\n",
    "\n",
    "# Convert observations to corresponding indices\n",
    "obs_indices = [['Sunny', 'Cloudy', 'Rainy'].index(obs) for obs in observations]\n",
    "\n",
    "# Perform the forward algorithm\n",
    "forward_probabilities = np.zeros((len(obs_indices), 3))\n",
    "forward_probabilities[0] = initial_probabilities * measurement_model[:, obs_indices[0]]\n",
    "\n",
    "for t in range(1, len(obs_indices)):\n",
    "    for j in range(3):\n",
    "        forward_probabilities[t, j] = np.sum(forward_probabilities[t - 1] * transition_matrix[:, j]) * measurement_model[j, obs_indices[t]]\n",
    "\n",
    "# Perform the backward algorithm\n",
    "backward_probabilities = np.ones((len(obs_indices), 3))\n",
    "\n",
    "for t in range(len(obs_indices) - 2, -1, -1):\n",
    "    for i in range(3):\n",
    "        backward_probabilities[t, i] = np.sum(backward_probabilities[t + 1] * transition_matrix[i, :] * measurement_model[:, obs_indices[t + 1]])\n",
    "\n",
    "# Calculate the smoothed probabilities\n",
    "smoothed_probabilities = forward_probabilities * backward_probabilities\n",
    "smoothed_probabilities /= np.sum(smoothed_probabilities, axis=1, keepdims=True)\n",
    "\n",
    "# Find the most likely weather for each day\n",
    "most_likely_weather = np.argmax(smoothed_probabilities, axis=1)\n",
    "\n",
    "# Convert indices back to weather conditions\n",
    "weather_conditions = ['Sunny', 'Cloudy', 'Rainy']\n",
    "\n",
    "# Print the most likely weather for each day\n",
    "for t in range(len(obs_indices)):\n",
    "    day = t + 2\n",
    "    print(\"Day {}: {}\".format(day, weather_conditions[most_likely_weather[t]]))\n"
   ]
  },
  {
   "attachments": {},
   "cell_type": "markdown",
   "metadata": {},
   "source": [
    "Consider the same situation (Day 1 is sunny, the measurements for Days 2, 3, and 4 are  sunny, sunny, rainy). What is the most likely sequence of weather for Days 2 through  4? What is the probability of this most likely sequence ?"
   ]
  },
  {
   "cell_type": "code",
   "execution_count": 4,
   "metadata": {},
   "outputs": [
    {
     "name": "stdout",
     "output_type": "stream",
     "text": [
      "Most likely sequence of weather: ['Sunny', 'Sunny', 'Rainy']\n",
      "Probability of the most likely sequence: 0.007\n"
     ]
    }
   ],
   "source": [
    "# Observations\n",
    "observations = ['Sunny', 'Sunny', 'Rainy']\n",
    "\n",
    "# Convert observations to corresponding indices\n",
    "obs_indices = [['Sunny', 'Cloudy', 'Rainy'].index(obs) for obs in observations]\n",
    "\n",
    "# Perform the Viterbi algorithm\n",
    "num_states = transition_matrix.shape[0]\n",
    "num_obs = len(obs_indices)\n",
    "\n",
    "# Initialize matrices\n",
    "viterbi = np.zeros((num_obs, num_states))\n",
    "backpointers = np.zeros((num_obs, num_states), dtype=int)\n",
    "\n",
    "# Base case: Day 1\n",
    "viterbi[0] = initial_probabilities * measurement_model[:, obs_indices[0]]\n",
    "\n",
    "# Recursive case: Days 2 through 4\n",
    "for t in range(1, num_obs):\n",
    "    for j in range(num_states):\n",
    "        prev_viterbi = viterbi[t - 1] * transition_matrix[:, j]\n",
    "        viterbi[t, j] = np.max(prev_viterbi) * measurement_model[j, obs_indices[t]]\n",
    "        backpointers[t, j] = np.argmax(prev_viterbi)\n",
    "\n",
    "# Find the most likely sequence\n",
    "most_likely_sequence = [np.argmax(viterbi[t]) for t in range(num_obs)]\n",
    "\n",
    "# Convert indices back to weather conditions\n",
    "weather_conditions = ['Sunny', 'Cloudy', 'Rainy']\n",
    "most_likely_weather = [weather_conditions[state] for state in most_likely_sequence]\n",
    "\n",
    "# Calculate the probability of the most likely sequence\n",
    "probability = np.max(viterbi[-1])\n",
    "\n",
    "# Print the most likely sequence and its probability\n",
    "print(\"Most likely sequence of weather: {}\".format(most_likely_weather))\n",
    "print(\"Probability of the most likely sequence: {:.3f}\".format(probability))"
   ]
  }
 ],
 "metadata": {
  "kernelspec": {
   "display_name": "Python 3",
   "language": "python",
   "name": "python3"
  },
  "language_info": {
   "codemirror_mode": {
    "name": "ipython",
    "version": 3
   },
   "file_extension": ".py",
   "mimetype": "text/x-python",
   "name": "python",
   "nbconvert_exporter": "python",
   "pygments_lexer": "ipython3",
   "version": "3.10.11"
  },
  "orig_nbformat": 4
 },
 "nbformat": 4,
 "nbformat_minor": 2
}
