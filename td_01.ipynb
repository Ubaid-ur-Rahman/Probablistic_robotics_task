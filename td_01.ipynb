{
 "cells": [
  {
   "attachments": {},
   "cell_type": "markdown",
   "metadata": {},
   "source": [
    "Suppose Day 1 is a sunny day. What is the probability of the following sequence of \n",
    "days: Day2 = cloudy, Day3 = cloudy, Day4 = rainy ?"
   ]
  },
  {
   "cell_type": "code",
   "execution_count": 1,
   "metadata": {},
   "outputs": [],
   "source": [
    "import random\n",
    "import numpy as np"
   ]
  },
  {
   "cell_type": "code",
   "execution_count": 2,
   "metadata": {},
   "outputs": [
    {
     "name": "stdout",
     "output_type": "stream",
     "text": [
      "Day 1: Sunny\n",
      "Day 2: Cloudy\n",
      "Day 3: Cloudy\n",
      "Day 4: Cloudy\n",
      "Day 5: Sunny\n",
      "Day 6: Cloudy\n",
      "Day 7: Sunny\n"
     ]
    }
   ],
   "source": [
    "# State transition table\n",
    "transition_table = {\n",
    "    \"Sunny\": {\"Sunny\": 0.8, \"Cloudy\": 0.2, \"Rainy\": 0.0},\n",
    "    \"Cloudy\": {\"Sunny\": 0.4, \"Cloudy\": 0.4, \"Rainy\": 0.2},\n",
    "    \"Rainy\": {\"Sunny\": 0.2, \"Cloudy\": 0.6, \"Rainy\": 0.2}\n",
    "}\n",
    "\n",
    "# Initial state means the starting day\n",
    "current_state = \"Sunny\"\n",
    "\n",
    "# Simulate the weather sequence for num_days days\n",
    "num_days = 7 # You can change this value\n",
    "for i in range(num_days):\n",
    "    # Print the current day's weather\n",
    "    print(\"Day {}: {}\".format(i+1, current_state))\n",
    "    \n",
    "    # Transition to the next state based on the probabilities in the transition table\n",
    "    next_state = random.choices(list(transition_table[current_state].keys()), \n",
    "                                list(transition_table[current_state].values()))[0]\n",
    "    \n",
    "    # Update the current state for the next iteration\n",
    "    current_state = next_state\n"
   ]
  },
  {
   "attachments": {},
   "cell_type": "markdown",
   "metadata": {},
   "source": [
    "Write a simulator that can randomly generate sequences of “weathers” from this state \n",
    "transition function."
   ]
  },
  {
   "cell_type": "code",
   "execution_count": 3,
   "metadata": {},
   "outputs": [
    {
     "name": "stdout",
     "output_type": "stream",
     "text": [
      "Stationary distribution: Sunny = 0.643, Cloudy = 0.286, Rainy = 0.071\n"
     ]
    }
   ],
   "source": [
    "# Transition matrix\n",
    "transition_matrix = np.array([[0.8, 0.2, 0.0],\n",
    "                              [0.4, 0.4, 0.2],\n",
    "                              [0.2, 0.6, 0.2]])\n",
    "\n",
    "# Find left eigenvectors of the transition matrix\n",
    "eigenvalues, eigenvectors = np.linalg.eig(transition_matrix.T)\n",
    "stationary_vector = np.real(eigenvectors[:, np.isclose(eigenvalues, 1)])\n",
    "\n",
    "# Reshape stationary_vector to a 2D array with 1 row and 3 columns\n",
    "stationary_vector = stationary_vector.reshape((1, 3))\n",
    "\n",
    "# Normalize the stationary vector\n",
    "stationary_vector = stationary_vector / np.sum(stationary_vector)\n",
    "\n",
    "# Print the stationary distribution\n",
    "print(\"Stationary distribution: Sunny = {:.3f}, Cloudy = {:.3f}, Rainy = {:.3f}\"\n",
    "      .format(stationary_vector[0][0], stationary_vector[0][1], stationary_vector[0][2]))"
   ]
  },
  {
   "attachments": {},
   "cell_type": "markdown",
   "metadata": {},
   "source": [
    "Use your simulator to determine the stationary distribution of this Markov chain. The \n",
    "stationary distribution measures the probability that a random day will be sunny, \n",
    "cloud, or rainy?\n"
   ]
  },
  {
   "attachments": {},
   "cell_type": "markdown",
   "metadata": {},
   "source": [
    "\n",
    "we can find the stationary distribution of this Markov chain by solving the system of linear equations that define it.\n",
    "\n",
    "Let π = [π₁, π₂, π₃] be the stationary distribution, where πᵢ represents the probability of being in state i in the long run. We can find the stationary distribution by solving the equation:\n",
    "πP = π\n",
    "\n",
    "where P is the state transition matrix. This equation says that the distribution after one step, πP, should be equal to the distribution before the step, π, in the stationary regime.\n",
    "\n",
    "Expanding this equation, we get a system of linear equations:\n",
    "π₁(0.8) + π₂(0.4) + π₃(0.2) = π₁\n",
    "π₁(0.2) + π₂(0.4) + π₃(0.6) = π₂\n",
    "π₁(0.0) + π₂(0.2) + π₃(0.2) = π₃\n",
    "\n",
    "Simplifying this system of equations, we get:\n",
    "0.8π₁ - π₁ = 0\n",
    "0.4π₁ + 0.4π₂ - π₂ = 0\n",
    "0.2π₁ + 0.6π₂ + 0.2π₃ - π₃ = 0\n",
    "\n",
    "We can write this system of equations in matrix form:\n",
    "[0.8 -1  0] [π₁]   [0]\n",
    "[0.4  0.4 -1] [π₂] = [0]\n",
    "[0.2  0.6  0.2] [π₃]   [0]\n",
    "\n",
    "Solving this system of equations, we get:\n",
    "π₁ = 4π₃/9\n",
    "π₂ = 3π₃/8\n",
    "π₃ = π₃\n",
    "\n",
    "To find the value of π₃, we use the fact that the stationary distribution must sum to 1, i.e., π₁ + π₂ + π₃ = 1. Substituting the values of π₁ and π₂, we get:\n",
    "4π₃/9 + 3π₃/8 + π₃ = 1\n",
    "=> 32π₃ + 27π₃ + 72π₃ = 648\n",
    "=> 131π₃ = 648\n",
    "=> π₃ = 648/131\n",
    "\n",
    "Substituting this value of π₃ into the expressions for π₁ and π₂, we get:\n",
    "π₁ = 4π₃/9 = 192/393\n",
    "π₂ = 3π₃/8 = 243/524\n",
    "π₃ = 648/131\n",
    "\n",
    "Therefore, the stationary distribution of the Markov chain is:\n",
    "π = [192/393, 243/524, 648/131] ≈ [0.487, 0.464, 0.049]"
   ]
  },
  {
   "cell_type": "code",
   "execution_count": 5,
   "metadata": {},
   "outputs": [
    {
     "name": "stdout",
     "output_type": "stream",
     "text": [
      "Stationary distribution: Sunny = 0.643, Cloudy = 0.286, Rainy = 0.071\n"
     ]
    }
   ],
   "source": [
    "# Identity matrix\n",
    "identity_matrix = np.eye(3)\n",
    "\n",
    "# Calculate the stationary distribution\n",
    "_, _, v = np.linalg.svd(transition_matrix.T - identity_matrix)\n",
    "stationary_vector = v[-1, :]\n",
    "stationary_vector = stationary_vector / np.sum(stationary_vector)\n",
    "\n",
    "# Print the stationary distribution\n",
    "print(\"Stationary distribution: Sunny = {:.3f}, Cloudy = {:.3f}, Rainy = {:.3f}\"\n",
    "      .format(stationary_vector[0], stationary_vector[1], stationary_vector[2]))"
   ]
  },
  {
   "attachments": {},
   "cell_type": "markdown",
   "metadata": {},
   "source": [
    "Can you devise a closed-form solution to calculating the stationary distribution based \n",
    "on the state transition matrix above?\n",
    "\n",
    "We can calculate the stationary distribution of a Markov chain by finding the eigenvector corresponding to the eigenvalue 1."
   ]
  },
  {
   "cell_type": "code",
   "execution_count": 6,
   "metadata": {},
   "outputs": [
    {
     "name": "stdout",
     "output_type": "stream",
     "text": [
      "Stationary distribution: Sunny = 0.643, Cloudy = 0.286, Rainy = 0.071\n"
     ]
    }
   ],
   "source": [
    "# Identity matrix\n",
    "identity_matrix = np.eye(3)\n",
    "\n",
    "# Calculate the stationary distribution\n",
    "eigenvalues, eigenvectors = np.linalg.eig(transition_matrix.T)\n",
    "index = np.where(np.isclose(eigenvalues, 1))[0][0]  # Find index of eigenvalue 1\n",
    "stationary_vector = np.real(eigenvectors[:, index])\n",
    "stationary_vector = stationary_vector / np.sum(stationary_vector)\n",
    "\n",
    "# Print the stationary distribution\n",
    "print(\"Stationary distribution: Sunny = {:.3f}, Cloudy = {:.3f}, Rainy = {:.3f}\"\n",
    "      .format(stationary_vector[0], stationary_vector[1], stationary_vector[2]))"
   ]
  },
  {
   "attachments": {},
   "cell_type": "markdown",
   "metadata": {},
   "source": [
    "What is the entropy of the stationary distribution ?\n",
    "\n",
    " It is calculated using the formula: H = - ∑(p * log2(p))"
   ]
  },
  {
   "cell_type": "code",
   "execution_count": 8,
   "metadata": {},
   "outputs": [
    {
     "name": "stdout",
     "output_type": "stream",
     "text": [
      "Entropy of the stationary distribution: 1.197\n"
     ]
    }
   ],
   "source": [
    "# Stationary distribution\n",
    "stationary_distribution = np.array([0.643, 0.286, 0.071])\n",
    "\n",
    "# Calculate the entropy\n",
    "entropy = -np.sum(stationary_distribution * np.log2(stationary_vector))\n",
    "\n",
    "# Print the entropy\n",
    "print(\"Entropy of the stationary distribution: {:.3f}\".format(entropy))"
   ]
  },
  {
   "attachments": {},
   "cell_type": "markdown",
   "metadata": {},
   "source": [
    "Using Bayes rule, compute the probability table of yesterday’s weather given today’s weather. It is okay to provide the probabilities numerically, and it is also okay to rely on results from previous questions in this exercise.\n",
    "\n",
    "we can use the formula:\n",
    "P(Yesterday | Today) = (P(Today | Yesterday) * P(Yesterday)) / P(Today)"
   ]
  },
  {
   "cell_type": "code",
   "execution_count": 9,
   "metadata": {},
   "outputs": [
    {
     "name": "stdout",
     "output_type": "stream",
     "text": [
      "Probability table of yesterday's weather given today's weather (Cloudy):\n",
      "Sunny: 0.450\n",
      "Cloudy: 0.401\n",
      "Rainy: 0.149\n"
     ]
    }
   ],
   "source": [
    "# Today's weather\n",
    "today_weather = \"Cloudy\"\n",
    "\n",
    "# Find the index of today's weather in the list ['Sunny', 'Cloudy', 'Rainy']\n",
    "today_index = ['Sunny', 'Cloudy', 'Rainy'].index(today_weather)\n",
    "\n",
    "# Compute the probability table of yesterday's weather given today's weather\n",
    "yesterday_probabilities = np.zeros(3)\n",
    "for i, weather in enumerate(['Sunny', 'Cloudy', 'Rainy']):\n",
    "    yesterday_index = i\n",
    "    transition_prob = transition_matrix[yesterday_index, today_index]\n",
    "    yesterday_prob = stationary_distribution[yesterday_index]\n",
    "    today_prob = np.dot(stationary_distribution, transition_matrix[:, today_index])\n",
    "    yesterday_given_today_prob = (transition_prob * yesterday_prob) / today_prob\n",
    "    yesterday_probabilities[yesterday_index] = yesterday_given_today_prob\n",
    "\n",
    "# Print the probability table\n",
    "print(\"Probability table of yesterday's weather given today's weather ({}):\".format(today_weather))\n",
    "print(\"Sunny: {:.3f}\".format(yesterday_probabilities[0]))\n",
    "print(\"Cloudy: {:.3f}\".format(yesterday_probabilities[1]))\n",
    "print(\"Rainy: {:.3f}\".format(yesterday_probabilities[2]))\n"
   ]
  },
  {
   "attachments": {},
   "cell_type": "markdown",
   "metadata": {},
   "source": [
    "Suppose we added seasons to our model. The state transition function above would only apply to the Summer, whereas different ones would apply to Winter, Spring, and Fall. Would this violate the Markov property of this process? Explain your answer.\n",
    "\n",
    "Yes, adding seasons to the model with different state transition functions for each season would violate the Markov property of the process.\n",
    "\n",
    "The Markov property states that the future behavior of a stochastic process depends only on its current state and is independent of its past history, given the present state. In other words, the process is memoryless, and the transition probabilities depend only on the current state.\n",
    "\n",
    "However, in the modified model with seasons, the transition probabilities would depend not only on the current state but also on the current season. This means that the future behavior of the process would no longer be solely determined by the current state but would also be influenced by the current season.\n",
    "\n",
    "Therefore, by introducing different state transition functions for each season, the process would become dependent on additional information beyond the current state, violating the Markov property."
   ]
  }
 ],
 "metadata": {
  "kernelspec": {
   "display_name": "Python 3",
   "language": "python",
   "name": "python3"
  },
  "language_info": {
   "codemirror_mode": {
    "name": "ipython",
    "version": 3
   },
   "file_extension": ".py",
   "mimetype": "text/x-python",
   "name": "python",
   "nbconvert_exporter": "python",
   "pygments_lexer": "ipython3",
   "version": "3.10.11"
  },
  "orig_nbformat": 4
 },
 "nbformat": 4,
 "nbformat_minor": 2
}
